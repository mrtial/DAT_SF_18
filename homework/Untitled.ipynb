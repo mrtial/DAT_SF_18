{
 "cells": [
  {
   "cell_type": "code",
   "execution_count": 4,
   "metadata": {
    "collapsed": true
   },
   "outputs": [],
   "source": [
    "import json\n",
    "import urllib\n",
    "import pandas as pd\n",
    "import numpy as np\n",
    "\n",
    "import requests\n",
    "import json"
   ]
  },
  {
   "cell_type": "code",
   "execution_count": 10,
   "metadata": {
    "collapsed": false
   },
   "outputs": [
    {
     "data": {
      "text/plain": [
       "<matplotlib.figure.Figure at 0x10af29410>"
      ]
     },
     "execution_count": 10,
     "metadata": {},
     "output_type": "execute_result"
    }
   ],
   "source": [
    "df = pd.DataFrame(np.random.rand(10,5))\n",
    "\n",
    "plt.figure()\n",
    "\n",
    "bp = df.boxplot()"
   ]
  },
  {
   "cell_type": "code",
   "execution_count": 13,
   "metadata": {
    "collapsed": true
   },
   "outputs": [],
   "source": [
    "plt.show()"
   ]
  },
  {
   "cell_type": "code",
   "execution_count": 12,
   "metadata": {
    "collapsed": true
   },
   "outputs": [],
   "source": [
    "bp = df.boxplot()"
   ]
  },
  {
   "cell_type": "code",
   "execution_count": 7,
   "metadata": {
    "collapsed": false
   },
   "outputs": [
    {
     "data": {
      "text/html": [
       "<div>\n",
       "<table border=\"1\" class=\"dataframe\">\n",
       "  <thead>\n",
       "    <tr style=\"text-align: right;\">\n",
       "      <th></th>\n",
       "      <th>0</th>\n",
       "      <th>1</th>\n",
       "      <th>2</th>\n",
       "      <th>3</th>\n",
       "      <th>4</th>\n",
       "    </tr>\n",
       "  </thead>\n",
       "  <tbody>\n",
       "    <tr>\n",
       "      <th>0</th>\n",
       "      <td>0.819395</td>\n",
       "      <td>0.140108</td>\n",
       "      <td>0.632418</td>\n",
       "      <td>0.325482</td>\n",
       "      <td>0.086681</td>\n",
       "    </tr>\n",
       "    <tr>\n",
       "      <th>1</th>\n",
       "      <td>0.702614</td>\n",
       "      <td>0.354673</td>\n",
       "      <td>0.594605</td>\n",
       "      <td>0.674900</td>\n",
       "      <td>0.058241</td>\n",
       "    </tr>\n",
       "    <tr>\n",
       "      <th>2</th>\n",
       "      <td>0.184510</td>\n",
       "      <td>0.337575</td>\n",
       "      <td>0.624437</td>\n",
       "      <td>0.855767</td>\n",
       "      <td>0.240779</td>\n",
       "    </tr>\n",
       "    <tr>\n",
       "      <th>3</th>\n",
       "      <td>0.274272</td>\n",
       "      <td>0.136780</td>\n",
       "      <td>0.657006</td>\n",
       "      <td>0.159667</td>\n",
       "      <td>0.591355</td>\n",
       "    </tr>\n",
       "    <tr>\n",
       "      <th>4</th>\n",
       "      <td>0.057073</td>\n",
       "      <td>0.757043</td>\n",
       "      <td>0.686903</td>\n",
       "      <td>0.453477</td>\n",
       "      <td>0.557159</td>\n",
       "    </tr>\n",
       "    <tr>\n",
       "      <th>5</th>\n",
       "      <td>0.465265</td>\n",
       "      <td>0.769946</td>\n",
       "      <td>0.007503</td>\n",
       "      <td>0.306569</td>\n",
       "      <td>0.663587</td>\n",
       "    </tr>\n",
       "    <tr>\n",
       "      <th>6</th>\n",
       "      <td>0.749708</td>\n",
       "      <td>0.921933</td>\n",
       "      <td>0.765035</td>\n",
       "      <td>0.284569</td>\n",
       "      <td>0.302207</td>\n",
       "    </tr>\n",
       "    <tr>\n",
       "      <th>7</th>\n",
       "      <td>0.620590</td>\n",
       "      <td>0.455653</td>\n",
       "      <td>0.667525</td>\n",
       "      <td>0.200359</td>\n",
       "      <td>0.424084</td>\n",
       "    </tr>\n",
       "    <tr>\n",
       "      <th>8</th>\n",
       "      <td>0.220241</td>\n",
       "      <td>0.354906</td>\n",
       "      <td>0.701672</td>\n",
       "      <td>0.316595</td>\n",
       "      <td>0.858938</td>\n",
       "    </tr>\n",
       "    <tr>\n",
       "      <th>9</th>\n",
       "      <td>0.717730</td>\n",
       "      <td>0.060414</td>\n",
       "      <td>0.507403</td>\n",
       "      <td>0.389590</td>\n",
       "      <td>0.398466</td>\n",
       "    </tr>\n",
       "  </tbody>\n",
       "</table>\n",
       "</div>"
      ],
      "text/plain": [
       "          0         1         2         3         4\n",
       "0  0.819395  0.140108  0.632418  0.325482  0.086681\n",
       "1  0.702614  0.354673  0.594605  0.674900  0.058241\n",
       "2  0.184510  0.337575  0.624437  0.855767  0.240779\n",
       "3  0.274272  0.136780  0.657006  0.159667  0.591355\n",
       "4  0.057073  0.757043  0.686903  0.453477  0.557159\n",
       "5  0.465265  0.769946  0.007503  0.306569  0.663587\n",
       "6  0.749708  0.921933  0.765035  0.284569  0.302207\n",
       "7  0.620590  0.455653  0.667525  0.200359  0.424084\n",
       "8  0.220241  0.354906  0.701672  0.316595  0.858938\n",
       "9  0.717730  0.060414  0.507403  0.389590  0.398466"
      ]
     },
     "execution_count": 7,
     "metadata": {},
     "output_type": "execute_result"
    }
   ],
   "source": [
    "df"
   ]
  },
  {
   "cell_type": "code",
   "execution_count": 17,
   "metadata": {
    "collapsed": false
   },
   "outputs": [],
   "source": [
    "from bokeh.plotting import figure, output_file, show\n"
   ]
  },
  {
   "cell_type": "code",
   "execution_count": 18,
   "metadata": {
    "collapsed": false
   },
   "outputs": [
    {
     "ename": "ImportError",
     "evalue": "cannot import name defaults",
     "output_type": "error",
     "traceback": [
      "\u001b[0;31m---------------------------------------------------------------------------\u001b[0m",
      "\u001b[0;31mImportError\u001b[0m                               Traceback (most recent call last)",
      "\u001b[0;32m<ipython-input-18-9d826e24d3ae>\u001b[0m in \u001b[0;36m<module>\u001b[0;34m()\u001b[0m\n\u001b[1;32m      1\u001b[0m \u001b[0;32mfrom\u001b[0m \u001b[0mbokeh\u001b[0m\u001b[0;34m.\u001b[0m\u001b[0mcharts\u001b[0m \u001b[0;32mimport\u001b[0m \u001b[0mBoxPlot\u001b[0m\u001b[0;34m,\u001b[0m \u001b[0moutput_file\u001b[0m\u001b[0;34m,\u001b[0m \u001b[0mshow\u001b[0m\u001b[0;34m\u001b[0m\u001b[0m\n\u001b[1;32m      2\u001b[0m \u001b[0;32mfrom\u001b[0m \u001b[0mbokeh\u001b[0m\u001b[0;34m.\u001b[0m\u001b[0msampledata\u001b[0m\u001b[0;34m.\u001b[0m\u001b[0mautompg\u001b[0m \u001b[0;32mimport\u001b[0m \u001b[0mautompg\u001b[0m \u001b[0;32mas\u001b[0m \u001b[0mdf\u001b[0m\u001b[0;34m\u001b[0m\u001b[0m\n\u001b[0;32m----> 3\u001b[0;31m \u001b[0;32mfrom\u001b[0m \u001b[0mbokeh\u001b[0m\u001b[0;34m.\u001b[0m\u001b[0mcharts\u001b[0m \u001b[0;32mimport\u001b[0m \u001b[0mdefaults\u001b[0m\u001b[0;34m,\u001b[0m \u001b[0mvplot\u001b[0m\u001b[0;34m,\u001b[0m \u001b[0mhplot\u001b[0m\u001b[0;34m\u001b[0m\u001b[0m\n\u001b[0m\u001b[1;32m      4\u001b[0m \u001b[0;34m\u001b[0m\u001b[0m\n\u001b[1;32m      5\u001b[0m \u001b[0mdefaults\u001b[0m\u001b[0;34m.\u001b[0m\u001b[0mwidth\u001b[0m \u001b[0;34m=\u001b[0m \u001b[0;36m450\u001b[0m\u001b[0;34m\u001b[0m\u001b[0m\n",
      "\u001b[0;31mImportError\u001b[0m: cannot import name defaults"
     ]
    }
   ],
   "source": [
    "from bokeh.charts import BoxPlot, output_file, show\n",
    "from bokeh.sampledata.autompg import autompg as df\n",
    "from bokeh.charts import defaults, vplot, hplot\n",
    "\n",
    "defaults.width = 450\n",
    "defaults.height = 350\n",
    "\n",
    "box_plot = BoxPlot(df, label='cyl', values='mpg',\n",
    "                   title=\"label='cyl', values='mpg'\")\n",
    "\n",
    "box_plot2 = BoxPlot(df, label=['cyl', 'origin'], values='mpg',\n",
    "                    title=\"label=['cyl', 'origin'], values='mpg'\")\n",
    "\n",
    "box_plot3 = BoxPlot(df, label='cyl', values='mpg', color='cyl',\n",
    "                    title=\"label='cyl' values='mpg'\")\n",
    "\n",
    "# use constant fill color\n",
    "box_plot4 = BoxPlot(df, label='cyl', values='displ',\n",
    "                    title=\"label='cyl' color='blue'\",\n",
    "                    color='blue')\n",
    "\n",
    "# color by one dimension and label by two dimensions\n",
    "box_plot5 = BoxPlot(df, label=['cyl', 'origin'], values='mpg',\n",
    "                    title=\"label=['cyl', 'origin'] color='cyl'\",\n",
    "                    color='cyl')\n",
    "\n",
    "# specify custom marker for outliers\n",
    "box_plot6 = BoxPlot(df, label='cyl', values='mpg', marker='cross',\n",
    "                    title=\"label='cyl', values='mpg', marker='cross'\")\n",
    "\n",
    "# color whisker by cylinder\n",
    "box_plot7 = BoxPlot(df, label='cyl', values='mpg', whisker_color='cyl',\n",
    "                    title=\"label='cyl', values='mpg', whisker_color='cyl'\")\n",
    "\n",
    "# remove outliers\n",
    "box_plot8 = BoxPlot(df, label='cyl', values='mpg', outliers=False,\n",
    "                    title=\"label='cyl', values='mpg', outliers=False\")\n",
    "\n",
    "# collect and display\n",
    "output_file(\"boxplot.html\")\n",
    "\n",
    "show(\n",
    "    vplot(\n",
    "        hplot(box_plot, box_plot2, box_plot3),\n",
    "        hplot(box_plot4, box_plot5, box_plot6),\n",
    "        hplot(box_plot7, box_plot8)\n",
    "    )\n",
    ")"
   ]
  },
  {
   "cell_type": "code",
   "execution_count": null,
   "metadata": {
    "collapsed": true
   },
   "outputs": [],
   "source": []
  }
 ],
 "metadata": {
  "kernelspec": {
   "display_name": "Python 2",
   "language": "python",
   "name": "python2"
  },
  "language_info": {
   "codemirror_mode": {
    "name": "ipython",
    "version": 2
   },
   "file_extension": ".py",
   "mimetype": "text/x-python",
   "name": "python",
   "nbconvert_exporter": "python",
   "pygments_lexer": "ipython2",
   "version": "2.7.10"
  }
 },
 "nbformat": 4,
 "nbformat_minor": 0
}
